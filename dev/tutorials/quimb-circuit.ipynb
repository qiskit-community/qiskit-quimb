{
 "cells": [
  {
   "cell_type": "markdown",
   "metadata": {},
   "source": [
    "# Simulate Qiskit circuits with quimb\n",
    "\n",
    "This tutorial shows how to simulate Qiskit circuits with quimb.\n",
    "\n",
    "First, build a Qiskit circuit to use as an example."
   ]
  },
  {
   "cell_type": "code",
   "execution_count": 1,
   "metadata": {
    "execution": {
     "iopub.execute_input": "2025-05-15T14:02:31.289856Z",
     "iopub.status.busy": "2025-05-15T14:02:31.289650Z",
     "iopub.status.idle": "2025-05-15T14:02:32.212429Z",
     "shell.execute_reply": "2025-05-15T14:02:32.211861Z"
    }
   },
   "outputs": [
    {
     "data": {
      "image/png": "[encoded data removed]",
      "text/plain": [
       "<Figure size 305.323x200.667 with 1 Axes>"
      ]
     },
     "execution_count": 1,
     "metadata": {},
     "output_type": "execute_result"
    }
   ],
   "source": [
    "from qiskit.circuit import QuantumCircuit, QuantumRegister\n",
    "\n",
    "# Build a Qiskit circuit\n",
    "qubits = QuantumRegister(2)\n",
    "circuit = QuantumCircuit(qubits)\n",
    "a, b = qubits\n",
    "circuit.h(a)\n",
    "circuit.cx(a, b)\n",
    "\n",
    "circuit.draw(\"mpl\")"
   ]
  },
  {
   "cell_type": "markdown",
   "metadata": {},
   "source": [
    "Convert the Qiskit circuit (an instance of `qiskit.circuit.QuantumCircuit`) to a quimb circuit (an instance of `quimb.tensor.Circuit`):"
   ]
  },
  {
   "cell_type": "code",
   "execution_count": 2,
   "metadata": {
    "execution": {
     "iopub.execute_input": "2025-05-15T14:02:32.248100Z",
     "iopub.status.busy": "2025-05-15T14:02:32.247576Z",
     "iopub.status.idle": "2025-05-15T14:02:35.709454Z",
     "shell.execute_reply": "2025-05-15T14:02:35.708947Z"
    }
   },
   "outputs": [
    {
     "name": "stderr",
     "output_type": "stream",
     "text": [
      "/home/runner/work/qiskit-quimb/qiskit-quimb/.tox/docs/lib/python3.13/site-packages/cotengra/hyperoptimizers/hyper.py:54: UserWarning: Couldn't find `optuna`, `cmaes`, or `nevergrad` so will use completely random sampling in place of hyper-optimization.\n",
      "  warnings.warn(\n",
      "/home/runner/work/qiskit-quimb/qiskit-quimb/.tox/docs/lib/python3.13/site-packages/cotengra/hyperoptimizers/hyper.py:73: UserWarning: Couldn't find `optuna`, `cmaes`, or `nevergrad` so will use completely random sampling in place of hyper-optimization.\n",
      "  warnings.warn(\n"
     ]
    }
   ],
   "source": [
    "from qiskit_quimb import quimb_circuit\n",
    "\n",
    "# Convert it to a quimb circuit\n",
    "quimb_circ = quimb_circuit(circuit)"
   ]
  },
  {
   "cell_type": "markdown",
   "metadata": {},
   "source": [
    "Now that you have a quimb object, you have the full power of quimb at your disposal. For example, you can sample bitstrings from the circuit:"
   ]
  },
  {
   "cell_type": "code",
   "execution_count": 3,
   "metadata": {
    "execution": {
     "iopub.execute_input": "2025-05-15T14:02:35.711747Z",
     "iopub.status.busy": "2025-05-15T14:02:35.711284Z",
     "iopub.status.idle": "2025-05-15T14:02:40.355423Z",
     "shell.execute_reply": "2025-05-15T14:02:40.354827Z"
    }
   },
   "outputs": [
    {
     "data": {
      "text/plain": [
       "['11', '00', '11', '00', '00', '00', '00', '00', '11', '00']"
      ]
     },
     "execution_count": 3,
     "metadata": {},
     "output_type": "execute_result"
    }
   ],
   "source": [
    "# Sample 10 bitstrings\n",
    "samples = list(quimb_circ.sample(10, seed=1234))\n",
    "\n",
    "samples"
   ]
  },
  {
   "cell_type": "markdown",
   "metadata": {},
   "source": [
    "You can customize the `quimb.tensor.Circuit` subclass to use, as well as specify keyword arguments to its constructor. For example, the following code cell uses quimb's quantum circuit MPS implementation, setting a maximum bond dimension:"
   ]
  },
  {
   "cell_type": "code",
   "execution_count": 4,
   "metadata": {
    "execution": {
     "iopub.execute_input": "2025-05-15T14:02:40.357537Z",
     "iopub.status.busy": "2025-05-15T14:02:40.357144Z",
     "iopub.status.idle": "2025-05-15T14:02:43.377757Z",
     "shell.execute_reply": "2025-05-15T14:02:43.377206Z"
    }
   },
   "outputs": [
    {
     "data": {
      "text/plain": [
       "['11', '11', '00', '00', '11', '00', '11', '11', '11', '00']"
      ]
     },
     "execution_count": 4,
     "metadata": {},
     "output_type": "execute_result"
    }
   ],
   "source": [
    "import quimb.tensor\n",
    "\n",
    "# You can specify the quimb Circuit subclass and keyword arguments for the constructor\n",
    "quimb_circ = quimb_circuit(\n",
    "    circuit, quimb_circuit_class=quimb.tensor.CircuitMPS, max_bond=20\n",
    ")\n",
    "samples = list(quimb_circ.sample(10, seed=1234))\n",
    "\n",
    "samples"
   ]
  },
  {
   "cell_type": "markdown",
   "metadata": {},
   "source": [
    "qiskit-quimb does not support every possible Qiskit gate, and in order to work with qiskit-quimb your Qiskit circuit must contain only supported gates. Notably, measurement gates are not supported. You can get the list of supported gates via `SUPPORTED_GATES`:"
   ]
  },
  {
   "cell_type": "code",
   "execution_count": 5,
   "metadata": {
    "execution": {
     "iopub.execute_input": "2025-05-15T14:02:43.379819Z",
     "iopub.status.busy": "2025-05-15T14:02:43.379502Z",
     "iopub.status.idle": "2025-05-15T14:02:43.383512Z",
     "shell.execute_reply": "2025-05-15T14:02:43.383007Z"
    }
   },
   "outputs": [
    {
     "data": {
      "text/plain": [
       "['barrier',\n",
       " 'ccx',\n",
       " 'ccz',\n",
       " 'cp',\n",
       " 'cx',\n",
       " 'cy',\n",
       " 'cz',\n",
       " 'h',\n",
       " 'id',\n",
       " 'iswap',\n",
       " 'measure',\n",
       " 'p',\n",
       " 'rx',\n",
       " 'rxx',\n",
       " 'ry',\n",
       " 'ryy',\n",
       " 'rz',\n",
       " 'rzz',\n",
       " 's',\n",
       " 'sdg',\n",
       " 'sx',\n",
       " 'sxdg',\n",
       " 'swap',\n",
       " 't',\n",
       " 'tdg',\n",
       " 'u1',\n",
       " 'u2',\n",
       " 'u3',\n",
       " 'x',\n",
       " 'xx_minus_yy',\n",
       " 'xx_plus_yy',\n",
       " 'y',\n",
       " 'z']"
      ]
     },
     "execution_count": 5,
     "metadata": {},
     "output_type": "execute_result"
    }
   ],
   "source": [
    "from qiskit_quimb import SUPPORTED_GATES\n",
    "\n",
    "list(SUPPORTED_GATES)"
   ]
  }
 ],
 "metadata": {
  "kernelspec": {
   "display_name": "qiskit-quimb",
   "language": "python",
   "name": "python3"
  },
  "language_info": {
   "codemirror_mode": {
    "name": "ipython",
    "version": 3
   },
   "file_extension": ".py",
   "mimetype": "text/x-python",
   "name": "python",
   "nbconvert_exporter": "python",
   "pygments_lexer": "ipython3",
   "version": "3.13.3"
  }
 },
 "nbformat": 4,
 "nbformat_minor": 2
}
